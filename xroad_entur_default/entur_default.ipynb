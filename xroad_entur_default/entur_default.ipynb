{
 "cells": [
  {
   "cell_type": "code",
   "execution_count": null,
   "metadata": {},
   "outputs": [],
   "source": [
    "from    pathlib             import  Path\n",
    "from    monstry.Builder     import  Builder\n",
    "from    monstry.DataCleaner import  DataCleaner\n",
    "\n",
    "from dotenv import load_dotenv\n",
    "import os\n",
    "load_dotenv()"
   ]
  },
  {
   "cell_type": "code",
   "execution_count": null,
   "metadata": {},
   "outputs": [],
   "source": [
    "config_path =   \"./config_files/entur_config.json\"\n",
    "builder     =   Builder(config_path=config_path)"
   ]
  },
  {
   "cell_type": "code",
   "execution_count": null,
   "metadata": {},
   "outputs": [],
   "source": [
    "xroad_default   = DataCleaner(builder , os.getenv(\"TABLE_NAME\"))"
   ]
  },
  {
   "cell_type": "code",
   "execution_count": null,
   "metadata": {},
   "outputs": [],
   "source": [
    "resumen_default = xroad_default.get_resumen()\n",
    "resumen_default.iloc[::-1]"
   ]
  },
  {
   "cell_type": "code",
   "execution_count": null,
   "metadata": {},
   "outputs": [],
   "source": [
    "base_dir    =   Path(\"./\")\n",
    "\n",
    "xroad_default.to_csv_resumen_table(\n",
    "    output_dir  =   os.getenv(\"OUTPUT_DIR\") ,\n",
    "    base_dir    =   base_dir,\n",
    "    file_name   =   os.getenv(\"OUTPUT_FILE_NAME\")\n",
    ")"
   ]
  },
  {
   "cell_type": "code",
   "execution_count": null,
   "metadata": {},
   "outputs": [],
   "source": [
    "xroad_default.total_score_gauge_save(\n",
    "    output_dir  =   os.getenv(\"OUTPUT_DIR\") ,\n",
    "    base_dir    =   base_dir,\n",
    "    file_name   =   os.getenv(\"OUTPUT_FILE_NAME\")\n",
    ")"
   ]
  }
 ],
 "metadata": {
  "kernelspec": {
   "display_name": "venv",
   "language": "python",
   "name": "python3"
  },
  "language_info": {
   "codemirror_mode": {
    "name": "ipython",
    "version": 3
   },
   "file_extension": ".py",
   "mimetype": "text/x-python",
   "name": "python",
   "nbconvert_exporter": "python",
   "pygments_lexer": "ipython3",
   "version": "3.10.6"
  },
  "orig_nbformat": 4
 },
 "nbformat": 4,
 "nbformat_minor": 2
}
