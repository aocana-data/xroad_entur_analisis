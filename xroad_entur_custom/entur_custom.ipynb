{
 "cells": [
  {
   "cell_type": "code",
   "execution_count": null,
   "metadata": {},
   "outputs": [],
   "source": [
    "from    pathlib             import  Path\n",
    "from    monstry.Builder     import  Builder\n",
    "from    monstry.DataCleaner import  DataCleaner\n",
    "\n",
    "from dotenv import load_dotenv\n",
    "import os\n",
    "load_dotenv(dotenv_path=\".sample_env\")"
   ]
  },
  {
   "cell_type": "code",
   "execution_count": null,
   "metadata": {},
   "outputs": [],
   "source": [
    "def main():\n",
    "    config_path =   \"./config_files/entur_custom_config.json\"\n",
    "    builder     =   Builder(config_path=config_path)\n",
    "    xroad_custom   = DataCleaner(builder , os.getenv(\"TABLE_NAME\"))\n",
    "    base_dir    =   Path(\"./\")\n",
    "\n",
    "    xroad_custom.__exactitud_funciones_config__(\n",
    "        \"./funciones_validacion/funciones_validacion.py\",\n",
    "        \"./funciones_validacion/funciones_validacion_custom.py\"\n",
    "    )\n",
    "    xroad_custom_resumen = xroad_custom.get_resumen()\n",
    "    xroad_custom_resumen.iloc[::-1].set_index(\"COLUMNA\")\n",
    "    \n",
    "    xroad_custom.to_csv_resumen_table(\n",
    "        output_dir  =   os.getenv(\"OUTPUT_DIR\") ,\n",
    "        base_dir    =   base_dir,\n",
    "        file_name   =   os.getenv(\"OUTPUT_FILE_NAME\")\n",
    "    )\n",
    "    \n",
    "    xroad_custom.total_score_gauge_save(\n",
    "    output_dir  =   os.getenv(\"OUTPUT_DIR\") ,\n",
    "    base_dir    =   base_dir,\n",
    "    file_name   =   os.getenv(\"OUTPUT_FILE_NAME\")\n",
    "    )"
   ]
  },
  {
   "attachments": {},
   "cell_type": "markdown",
   "metadata": {},
   "source": [
    "Run main process"
   ]
  },
  {
   "cell_type": "code",
   "execution_count": null,
   "metadata": {},
   "outputs": [],
   "source": [
    "main()"
   ]
  }
 ],
 "metadata": {
  "kernelspec": {
   "display_name": "venv",
   "language": "python",
   "name": "python3"
  },
  "language_info": {
   "codemirror_mode": {
    "name": "ipython",
    "version": 3
   },
   "file_extension": ".py",
   "mimetype": "text/x-python",
   "name": "python",
   "nbconvert_exporter": "python",
   "pygments_lexer": "ipython3",
   "version": "3.10.6"
  },
  "orig_nbformat": 4
 },
 "nbformat": 4,
 "nbformat_minor": 2
}
